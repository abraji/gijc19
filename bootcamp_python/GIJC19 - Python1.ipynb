{
 "cells": [
  {
   "attachments": {
    "code.png": {
     "image/png": "[encoded data removed]"
    },
    "markdown.png": {
     "image/png": "[encoded data removed]"
    },
    "tastaturknap.png": {
     "image/png": "[encoded data removed]"
    }
   },
   "cell_type": "markdown",
   "metadata": {},
   "source": [
    "<h1>Introdução rápida ao Python</h1>\n",
    "\n",
    "<h4>Por <a href=\"https://www.twitter.com/tbkaas\">Tommy Kaas</a> e <a href=\"https://www.twitter.com/nmulvad\">Nils Mulvad</a>, Kaas & Mulvad</h4>\n",
    "\n",
    "\n",
    "<h3>Sobre este documento - jupyter notebook</h3>\n",
    "\n",
    "\n",
    "Nesta aula nós vamos usar o <i>Jupyter notebook</i>.\n",
    "\n",
    "Um notebook é um documento como este. Você pode ler instruções, resolver tarefas e escrever seu próprio código e testá-lo imediatamente. Tudo acontece em vários campos da página. \n",
    "\n",
    "Em cada notebook, normalmente haverá instruções e informações em vários campos de texto. Você não precisa editá-los. Você deve, no entanto, codificar e resolver tarefas nos campos de código.\n",
    "\n",
    "Um notebook pode estar em`\"Command mode\"` ou `\"Edit mode\"`. Se a borda esquerda da célula estiver verde, estamos no modo de edição. Se a borda esquerda da célula estiver azul, estamos no modo de comando.\n",
    "\n",
    "No modo de Edição, você pode editar uma célula. No modo Comando, você pode pular de célula em célula com as teclas de seta ou manipular o próprio documento de outras maneiras. \n",
    "\n",
    "Mude de Editar para Comando com a tecla Esc. Para ir de Comando para Editar, pressione a tecla Enter. A célula, onde está o cursor, fica ativa e você pode editá-la. \n",
    "\n",
    "Você obtém uma lista dos comandos e atalhos mais comuns clicando no botão do teclado logo acima.\n",
    "![tastaturknap.png](attachment:tastaturknap.png)\n",
    "\n",
    "Ou pressionando (no pc: shift + ctrl + p) (no mac: shift + cmd + p).\n",
    "\n",
    "Quando você deseja executar o código em uma célula - ou seja, executar o programa que você escreveu - mantenha pressionada a tecla Shift e pressione Enter.\n",
    "\n",
    "Se você pressionar ALT enquanto pressiona Enter, executa o código - e ao mesmo tempo insere uma célula em branco abaixo.\n",
    "\n",
    "Você também pode inserir células vazias, mantendo o comando (observe qual das células está marcada com uma borda azul à esquerda) e pressione a tecla \"b\" (para obter uma célula vazia abaixo da que você está esperando) ou \"a\" para uma célula vazia acima da célula em que você está aguardando).\n",
    "\n",
    "Uma célula (com borda azul) pode ser excluída pressionando a tecla d duas vezes no modo de Comando.\n",
    "\n",
    "Se algo restar de uma célula, pretende-se que ele contenha código. Você também pode verificar o tipo de célula em que está / conhece, consultando a barra de ferramentas. As células para código são marcadas com isso:\n",
    "![code.png](attachment:code.png)\n",
    "\n",
    "As células do texto (como a célula na qual este texto está escrito) são marcadas com este:\n",
    "![markdown.png](attachment:markdown.png)\n",
    "\n",
    "Uma célula pode ser alterada de Markdown para Code com (modo de comando) + y. E de Code para Markdown com (modo de comando) + m."
   ]
  },
  {
   "cell_type": "code",
   "execution_count": null,
   "metadata": {},
   "outputs": [],
   "source": []
  },
  {
   "cell_type": "markdown",
   "metadata": {},
   "source": [
    "Vamos testar como isso funciona.\n",
    "No campo de código vazio abaixo, escreva:\n",
    "\n",
    "print(\"Hello World\")\n",
    "\n",
    "e, em seguida, execute o código - mantenha pressionada a tecla SHIFT e pressione ENTER.\n"
   ]
  },
  {
   "cell_type": "code",
   "execution_count": null,
   "metadata": {},
   "outputs": [],
   "source": []
  },
  {
   "cell_type": "markdown",
   "metadata": {},
   "source": [
    "<h3>Variáveis</h3>\n",
    "\n",
    "Uma variável Python é um nome simbólico que é uma referência ou aponta para um objeto.\n",
    "Depois que um objeto é atribuído a uma variável, você pode se referir ao objeto com esse nome.\n",
    "Mas os dados em si ainda estão contidos no objeto.\n",
    "\n",
    "Os nomes de variáveis devem começar com uma letra, mas podem conter números e sublinhado.\n",
    "\n",
    "<b>x = 42</b>\n",
    "\n",
    "x é uma variável e é igual ao número 42.\n",
    "\n",
    "<b>y = \"Kaas & Mulvad\"</b>\n",
    "\n",
    "Aqui está y a variável e é igual à string \"Kaas & Mulvad\"\n",
    "\n",
    "Ao definir variáveis, um sinal de igual é usado. Se dois iguais (==) são usados, o Python verifica se duas coisas são idênticas e retorna True ou False.\n",
    "\n",
    "Experimente as tarefas abaixo. Clique no cursor dentro do campo e execute o código pressionando SHIFT + ENTER\n",
    "\n",
    "\n"
   ]
  },
  {
   "cell_type": "code",
   "execution_count": null,
   "metadata": {},
   "outputs": [],
   "source": [
    "a = 10"
   ]
  },
  {
   "cell_type": "markdown",
   "metadata": {},
   "source": [
    "Imediatamente, nada acontece quando você executa o código acima. Mas agora armazenamos a informação de que a variável a é igual ao número 10. Podemos testá-la. Vamos pedir uma impressão:"
   ]
  },
  {
   "cell_type": "code",
   "execution_count": null,
   "metadata": {},
   "outputs": [],
   "source": [
    "print(a)"
   ]
  },
  {
   "cell_type": "markdown",
   "metadata": {},
   "source": [
    "Agora vemos que o programa escreve o número 10 quando pedimos para escrever a variável a. Que tal este:"
   ]
  },
  {
   "cell_type": "code",
   "execution_count": null,
   "metadata": {},
   "outputs": [],
   "source": [
    "print(b)"
   ]
  },
  {
   "cell_type": "markdown",
   "metadata": {},
   "source": [
    "Recebemos uma mensagem de erro. O problema é que não definimos b. E antes disso, b não existe.\n",
    "Mas devemos seguir em frente. O que há dentro de a? Parece um número, mas agora também é um número? Muitas vezes precisamos verificar o tipo. Aqui está como:"
   ]
  },
  {
   "cell_type": "code",
   "execution_count": null,
   "metadata": {},
   "outputs": [],
   "source": [
    "print(type(a))"
   ]
  },
  {
   "cell_type": "markdown",
   "metadata": {},
   "source": [
    "Outra verificação importante é o comprimento de algo. Tente o seguinte:"
   ]
  },
  {
   "cell_type": "code",
   "execution_count": null,
   "metadata": {},
   "outputs": [],
   "source": [
    "b = \"python\"\n",
    "print(len(b))"
   ]
  },
  {
   "cell_type": "markdown",
   "metadata": {},
   "source": [
    "Brinque com variáveis por conta própria:"
   ]
  },
  {
   "cell_type": "code",
   "execution_count": null,
   "metadata": {},
   "outputs": [],
   "source": []
  },
  {
   "cell_type": "markdown",
   "metadata": {},
   "source": [
    "\n",
    "\n",
    "<h3>Listas</h3>\n",
    "\n",
    "As listas são uma série de valores, como ['Ann', 'Bob', 'Amy'] or [1, 2, 3]. Uma lista aparece entre colchetes, `[ ]`.\n",
    "\n",
    "Uma lista pode estar vazia e você pode adicionar e remover conteúdo de uma lista. É mutável - ou seja, pode ser alterado.\n",
    "\n",
    "Em um trabalho típico de raspagem, primeiro criaremos uma lista vazia e, em seguida, gradualmente a preencheremos com material raspado.\n",
    "\n",
    "`empty_list = []`\n",
    "\n",
    "A adição de conteúdo geralmente acontece com a funcionalidade *.append() (adicione um elemento no final), e existem várias outras opções.\n",
    "\n",
    "Listas podem ser `indexed`. Portanto, você pode encontrar um elemento específico na lista com base em um `index number`. O primeiro item da lista sempre tem o número 0 e depois segue a contar. Isso é importante lembrar!\n",
    "\n",
    "Se tivermos uma lista chamada \"names\":\n",
    "\n",
    "names = ['Ann', 'Bob', 'Amy', 'Joe', 'Viv'] \n",
    "\n",
    "e quiser exibir o primeiro valor da lista de nomes, nós o obteremos, se inserirmos`names[0]`\n",
    "\n",
    "**Tente isso:**"
   ]
  },
  {
   "cell_type": "code",
   "execution_count": null,
   "metadata": {},
   "outputs": [],
   "source": [
    "names = ['Ann', 'Bob', 'Amy', 'Joe', 'Viv']\n",
    "print(names)"
   ]
  },
  {
   "cell_type": "markdown",
   "metadata": {},
   "source": [
    "Em seguida, tente imprimir apenas o primeiro elemento da lista:"
   ]
  },
  {
   "cell_type": "code",
   "execution_count": null,
   "metadata": {},
   "outputs": [],
   "source": [
    "print(names[0])"
   ]
  },
  {
   "cell_type": "markdown",
   "metadata": {},
   "source": [
    "Escreva o código e imprima o elemento 'Amy' na lista acima."
   ]
  },
  {
   "cell_type": "code",
   "execution_count": null,
   "metadata": {},
   "outputs": [],
   "source": []
  },
  {
   "cell_type": "markdown",
   "metadata": {},
   "source": [
    "Se você deseja selecionar mais valores de uma lista, faça-o`slicing` (fatiando a lista):\n",
    "\n",
    "[1:3] seleciona dois elementos - o primeiro e o segundo elementos (ou seja, não o 0º elemento)\n",
    "\n",
    "[:3] seleciona 0, 1 e 2 elementos\n",
    "\n",
    "[1:] seleciona tudo do primeiro elemento em diante (mas não o 0)\n",
    "\n",
    "[-1] seleciona o último item da lista"
   ]
  },
  {
   "cell_type": "markdown",
   "metadata": {},
   "source": [
    "**Tente isso abaixo:** \n",
    "\n",
    "- Extraia o segundo nome de \"names\" e adicione-o a uma variável chamada secondname. Imprima.\n",
    "\n",
    "- Verifique o tipo e o comprimento de \"names\"\n",
    "\n",
    "- Use <i>slicing</i> e extraia os três últimos nomes e adicione-os a uma nova variável \"names3\". Imprima a nova variável.\n"
   ]
  },
  {
   "cell_type": "code",
   "execution_count": null,
   "metadata": {},
   "outputs": [],
   "source": [
    "names = ['Ann', 'Bob', 'Amy', 'Joe', 'Viv']"
   ]
  },
  {
   "cell_type": "markdown",
   "metadata": {},
   "source": [
    "<h3>Strings</h3>\n",
    "\n",
    "Em todo lugar no Python, e especialmente quando temos que raspar, é importante poder trabalhar com strings. É necessário conhecer alguns dos métodos.\n",
    "\n",
    "Uma sequência é uma coleção de caracteres entre aspas. Uma sequência pode incluir todos os tipos de caracteres:\n",
    "\n",
    "\"string\"\n",
    "\n",
    "\"A string\"\n",
    "\n",
    "\"ser ou não ser\"\n",
    "\n",
    "\" \" #Essa sequência consiste em apenas um espaço\n",
    "\n",
    "\"12345\" #Mesmo que números sejam incluídos em uma sequência, não é um número, mas uma sequência.\n",
    "\n",
    "\"31/12/2010\"\n",
    "\n",
    "Não importa se usamos aspas simples ou duplas. Então \"Hello World\" é tão bom quanto 'Hello World'. Nós apenas precisamos usar o mesmo tipo de cotação nas duas extremidades da string.\n",
    "\n",
    "Você pode usar a indexação e o fatiamento em sequências de caracteres e, claro, verificar o tipo e o comprimento."
   ]
  },
  {
   "cell_type": "code",
   "execution_count": null,
   "metadata": {},
   "outputs": [],
   "source": []
  },
  {
   "cell_type": "markdown",
   "metadata": {},
   "source": [
    "<h3>Dicionários / JSON</h3>\n",
    "\n",
    "Outra estrutura de dados importante no Python é o `dicionário` - frequentemente chamado `dicts`.\n",
    "\n",
    "Dicts são incrivelmente úteis para armazenar dados. Um dict se comporta amplamente da mesma maneira que o formato de dados que se tornou o padrão de fato nos últimos anos para carregar conteúdo em sites dinâmicos; `JSON`. Se você pesquisar no Instagram, por exemplo, verá que todos os dados no site deles são JSON.\n",
    "\n",
    "É um formato essencial para trabalharmos quando precisamos recuperar dados da web.\n",
    "\n",
    "A leitura de dados JSON no Python cria um dict. Por esse motivo, é uma estrutura de dados importante para se familiarizar.\n",
    "\n",
    "Quando analisamos as listas de estrutura de dados pela primeira vez, elas foram caracterizadas por colchetes - ou seja, `[ ]`. Um dict também pode ser conhecido entre colchetes - `{ }`.\n",
    "\n",
    "Podemos extrair conteúdo de uma lista através de números de índice - onde ['we', 'love', 'Python'] [2] retornará 'Python' (porque 'Python' está no índice 2 - local na lista). Os dicts não funcionam através de números, mas por nomes.\n",
    "\n",
    "Nos ditados, temos pares de `keys and values` (chaves e valores), e cada valor é extraído por um nome, também chamado de chave. Nós temos <i>key value pairs</i>, ou seja, pares, onde cada valor pode ser recuperado através de uma chave exclusiva. Pense em uma lista telefônica antiquada, onde os nomes são importantes e os números são importantes.\n",
    "    \n",
    "Vamos mostrar como funciona - com dados de um usuário do Instagram."
   ]
  },
  {
   "cell_type": "code",
   "execution_count": null,
   "metadata": {},
   "outputs": [],
   "source": [
    "insta_user = {\n",
    "    'byline': '37.5k followers',\n",
    "    'follower_count': 37543,\n",
    "    'full_name': 'Peter Gadiot',\n",
    "    'has_anonymous_profile_picture': False,\n",
    "    'is_private': False,\n",
    "    'is_verified': True,\n",
    "    'mutual_followers_count': 0.0,\n",
    "    'pk': '237056066',\n",
    "    'profile_pic_id': '1547077009316889099_237056066',\n",
    "    'profile_pic_url': 'https://instagram.fcph2-1.fna.fbcdn.net/t51.2885-19/s150x150/19428813_1102323699869604_9068460031141216256_a.jpg',\n",
    "    'username': 'peter_gn'\n",
    "}"
   ]
  },
  {
   "cell_type": "markdown",
   "metadata": {},
   "source": [
    "Na célula acima, temos um dict que chamamos`insta_user`.\n",
    "\n",
    "Geralmente, nos dicts, tudo à esquerda do \":\" é`key`, enquanto o que está à direita do \":\" é o `value` que corresponde a essa chave.\n",
    "\n",
    "No insta_user, as chaves são: byline, follower_count, full_name, has_anonymous_profile_picture, etc., etc.\n",
    "\n",
    "Por outro lado, os valores para as várias chaves incluem Peter Gadiot, peter_gn and 237056066.\n",
    "\n",
    "Como fizemos com a lista de estrutura de dados, também podemos inspecionar vários elementos de um dict. Funções como type (insta_user) e len (insta_users) também funcionam em dict.\n",
    "\n",
    "Então, vamos olhar um pouco mais para o nosso insta_user-dict com isso em mente."
   ]
  },
  {
   "cell_type": "code",
   "execution_count": null,
   "metadata": {},
   "outputs": [],
   "source": [
    "# quantos pares de valores-chave esse dict possui?\n",
    "print(len(insta_user))"
   ]
  },
  {
   "cell_type": "markdown",
   "metadata": {},
   "source": [
    "E se quisermos saber quais são as 11 chaves disponíveis, o Python tem um recurso que pode nos dizer exatamente isso. Tente executar a célula abaixo."
   ]
  },
  {
   "cell_type": "code",
   "execution_count": null,
   "metadata": {},
   "outputs": [],
   "source": [
    "#quais chaves estão em nosso insta_user-dict? - você pode verificá-lo facilmente com a função .keys ()\n",
    "keys = insta_user.keys()\n",
    "print(keys)"
   ]
  },
  {
   "cell_type": "markdown",
   "metadata": {},
   "source": [
    "Uma das grandes diferenças entre dict e list é a maneira como o conteúdo é extraído. Se insta_user fosse uma lista, precisaríamos extrair os valores por meio de números de índice inseridos entre colchetes (por exemplo, insta_user [2]).\n",
    "\n",
    "Em um dict, você também usa colchetes, mas, em vez de preencher números, usamos a chave e obtemos o valor.\n",
    "\n",
    "Por exemplo, se queremos extrair 'peter_gn' (valor) do nosso insta_user-dict, fazemos isso através da chave chamada nome de usuário. Então, faríamos isso como na célula abaixo:"
   ]
  },
  {
   "cell_type": "code",
   "execution_count": null,
   "metadata": {},
   "outputs": [],
   "source": [
    "user = insta_user['username']\n",
    "print(user)"
   ]
  },
  {
   "cell_type": "markdown",
   "metadata": {},
   "source": [
    "**Tente isso:** \n",
    "\n",
    "do nosso dict \"insta_user\", extraia e imprima os seguintes valores:\n",
    "\n",
    "userid (called pk in insta_user)\n",
    "\n",
    "Full name\n",
    "\n",
    "Number of followers\n"
   ]
  },
  {
   "cell_type": "markdown",
   "metadata": {},
   "source": [
    "Quando você deseja combinar os resultados com suas próprias palavras, preferimos este método:"
   ]
  },
  {
   "cell_type": "code",
   "execution_count": null,
   "metadata": {},
   "outputs": [],
   "source": [
    "full_name = insta_user['full_name']\n",
    "print('The full name is: {}'.format(full_name))"
   ]
  },
  {
   "cell_type": "markdown",
   "metadata": {},
   "source": [
    "E você pode combinar:"
   ]
  },
  {
   "cell_type": "code",
   "execution_count": null,
   "metadata": {},
   "outputs": [],
   "source": [
    "full_name = insta_user['full_name']\n",
    "followers = insta_user['follower_count']\n",
    "print('O usuário instagram  {} tem {} seguidores'.format(full_name, followers))"
   ]
  },
  {
   "cell_type": "code",
   "execution_count": null,
   "metadata": {},
   "outputs": [],
   "source": []
  },
  {
   "cell_type": "markdown",
   "metadata": {},
   "source": [
    "<h3>loop - \"for loop\"</h3>\n",
    "\n",
    "Os dados que precisamos coletar são geralmente listados. Ou nas próprias listas do Python ou simplesmente listadas em tabelas, por exemplo, em sites dos quais as extrairemos.\n",
    "\n",
    "Portanto, precisamos de uma ferramenta que possa nos ajudar a percorrer sistematicamente dados, página por página, linha por linha ou elemento por elemento, letra por letra etc. - e para cada elemento, cada linha em cada página etc. faça exatamente o que precisamos.\n",
    "\n",
    "Essa ferramenta é chamada`loop`.\n",
    "\n",
    "Um loop é um bloco de código repetido 0, 1 ou mais vezes.\n",
    "\n",
    "Existem diferentes tipos de loops - hoje trabalharemos apenas com os chamados`\"for loop\"`.\n",
    "\n",
    "O \"for loop\" percorre listas, arquivos ou sequências e, em seguida, faz para cada elemento da lista o que você solicita.\n",
    "\n",
    "Aqui, apenas queremos que cada nome em uma lista seja impresso:"
   ]
  },
  {
   "cell_type": "code",
   "execution_count": null,
   "metadata": {},
   "outputs": [],
   "source": [
    "names = ['Lee', 'Susan', 'Kim', 'Annie']\n",
    "for name in names:\n",
    "    print(name)"
   ]
  },
  {
   "cell_type": "code",
   "execution_count": null,
   "metadata": {},
   "outputs": [],
   "source": []
  },
  {
   "cell_type": "markdown",
   "metadata": {},
   "source": [
    "Não é complicado escrever um looop. A primeira palavra \"for\" deve ser escrita em minúsculas.\n",
    "\n",
    "Nesse caso, solicitamos que, para cada item da lista (que consiste em quatro nomes), algo aconteça: queremos que o nome seja impresso. Portanto, esse loop é executado quatro vezes porque há quatro itens na lista.\n",
    "\n",
    "Há um recuo automático de segunda linha. Ele vem depois de completar a primeira linha com dois pontos e pressionar ENTER.\n",
    "\n",
    "A palavra `name` no loop acima pode ser substituída por qualquer outra coisa. Tente corrigi-lo para outra palavra ou caractere - por exemplo, x - e execute o loop novamente. No entanto, é sempre bom usar um termo que faça sentido."
   ]
  },
  {
   "cell_type": "code",
   "execution_count": null,
   "metadata": {},
   "outputs": [],
   "source": [
    "numbers = [2, 4, 6, 8]\n",
    "# escreva um loop que imprima o quadrado de cada número na lista\n"
   ]
  },
  {
   "cell_type": "code",
   "execution_count": null,
   "metadata": {},
   "outputs": [],
   "source": []
  },
  {
   "cell_type": "markdown",
   "metadata": {},
   "source": [
    "<h3>range()</h3>\n",
    "\n",
    "Costumamos usar a função range em conjunto com um \"for loop\".\n",
    "\n",
    "Aqui estão duas maneiras diferentes de fazer isso:\n",
    "\n",
    "Primeiro, um intervalo com indicação de início e fim. Observe que nunca mostraremos o valor final."
   ]
  },
  {
   "cell_type": "code",
   "execution_count": null,
   "metadata": {},
   "outputs": [],
   "source": [
    "for n in range(10, 15):\n",
    "    print('the number is {}'.format(n))"
   ]
  },
  {
   "cell_type": "markdown",
   "metadata": {},
   "source": [
    "A letra n é selecionada aleatoriamente. Apenas queremos dizer \"para cada unidade em ...\"\n",
    "\n",
    "Quando há apenas um número entre parênteses, sempre começamos com 0:"
   ]
  },
  {
   "cell_type": "code",
   "execution_count": null,
   "metadata": {},
   "outputs": [],
   "source": [
    "for n in range(10):\n",
    "    print(n)"
   ]
  },
  {
   "cell_type": "code",
   "execution_count": null,
   "metadata": {},
   "outputs": [],
   "source": [
    "#frequentemente usaremos a função range para criar URLs para raspar.\n",
    "\n",
    "for n in range(1,10):\n",
    "    print('https:www.testpage.org/id={}'.format(n))"
   ]
  },
  {
   "cell_type": "markdown",
   "metadata": {},
   "source": [
    "**Exercício:**\n",
    "\n",
    "Crie 20 URLs após este modelo:\n",
    "\n",
    "https://www.gijc2019.org\n",
    "\n",
    "https://www.gijc2020.org\n",
    "\n",
    "https://www.gijc2021.org\n",
    "etc."
   ]
  },
  {
   "cell_type": "code",
   "execution_count": null,
   "metadata": {},
   "outputs": [],
   "source": [
    "\n"
   ]
  }
 ],
 "metadata": {
  "kernelspec": {
   "display_name": "Python 3",
   "language": "python",
   "name": "python3"
  },
  "language_info": {
   "codemirror_mode": {
    "name": "ipython",
    "version": 3
   },
   "file_extension": ".py",
   "mimetype": "text/x-python",
   "name": "python",
   "nbconvert_exporter": "python",
   "pygments_lexer": "ipython3",
   "version": "3.6.8"
  }
 },
 "nbformat": 4,
 "nbformat_minor": 4
}
